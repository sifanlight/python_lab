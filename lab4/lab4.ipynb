{
 "cells": [
  {
   "cell_type": "code",
   "execution_count": 1,
   "metadata": {},
   "outputs": [
    {
     "name": "stdout",
     "output_type": "stream",
     "text": [
      "97102185 Alireza Farajtabrizi\n",
      "[97102185, 'Alireza Farajtabrizi'] Hamed Massoudian\n"
     ]
    }
   ],
   "source": [
    "#2-1\n",
    "a = []\n",
    "a.append(97102185)\n",
    "a.append(\"Alireza Farajtabrizi\")\n",
    "b = [97102452, \"Hamed Massoudian\"]\n",
    "c = [97101101, \"Amin Hajikhodaveridan\"]\n",
    "d = [a, b, c]\n",
    "\n",
    "print(a[0],a[1])\n",
    "print(d[0], d[1][1])"
   ]
  },
  {
   "cell_type": "code",
   "execution_count": 2,
   "metadata": {},
   "outputs": [
    {
     "name": "stdout",
     "output_type": "stream",
     "text": [
      "97102185 Alireza Farajtabrizi\n",
      "(97102185, 'Alireza Farajtabrizi') Hamed Massoudian\n"
     ]
    }
   ],
   "source": [
    "#2-2\n",
    "a = (97102185,\"Alireza Farajtabrizi\")\n",
    "b = (97102452, \"Hamed Massoudian\")\n",
    "c = (97101101, \"Amin Hajikhodaveridan\")\n",
    "d = (a, b, c)\n",
    "\n",
    "#a.append(1) error\n",
    "#a[0]=1      error\n",
    "\n",
    "print(a[0],a[1])\n",
    "print(d[0], d[1][1])"
   ]
  },
  {
   "cell_type": "code",
   "execution_count": 3,
   "metadata": {},
   "outputs": [
    {
     "name": "stdout",
     "output_type": "stream",
     "text": [
      "[('Roman', '27BC-1453AD'), ('Egypt', '3150BC-30BC'), ('Greek', '800BC-600AD'), ('Chinese', '221BC-1912AD'), ('Islamic', '750AD-1257AD'), ('Mayan', '2000BC-1540AD'), ('Persian', '550BC-651AD'), ('Mongol', '1206AD-1368AD')] \n",
      "\n",
      "{'Roman': '27BC-1453AD', 'Egypt': '3150BC-30BC', 'Greek': '800BC-600AD', 'Chinese': '221BC-1912AD', 'Islamic': '750AD-1257AD', 'Mayan': '2000BC-1540AD', 'Persian': '550BC-651AD', 'Mongol': '1206AD-1368AD'} \n",
      "\n",
      "dict_keys(['Roman', 'Egypt', 'Greek', 'Chinese', 'Islamic', 'Mayan', 'Persian', 'Mongol']) \n",
      "\n",
      "dict_values(['27BC-1453AD', '3150BC-30BC', '800BC-600AD', '221BC-1912AD', '750AD-1257AD', '2000BC-1540AD', '550BC-651AD', '1206AD-1368AD']) \n",
      "\n",
      "27BC-1453AD \n",
      "\n"
     ]
    }
   ],
   "source": [
    "#2-3\n",
    "nation = ['Roman','Egypt','Greek','Chinese','Islamic','Mayan','Persian','Mongol']\n",
    "golden_age = ['27BC-1453AD','3150BC-30BC','800BC-600AD','221BC-1912AD','750AD-1257AD','2000BC-1540AD','550BC-651AD','1206AD-1368AD']\n",
    "\n",
    "dic1 = zip(nation, golden_age)\n",
    "print(list(dic1),\"\\n\")\n",
    "\n",
    "dic2 = dict(zip(nation, golden_age))\n",
    "\n",
    "print(dic2,\"\\n\")    \n",
    "print(dic2.keys(),\"\\n\")\n",
    "print(dic2.values(),\"\\n\")\n",
    "print(dic2['Roman'],\"\\n\")\n"
   ]
  },
  {
   "cell_type": "code",
   "execution_count": 4,
   "metadata": {},
   "outputs": [
    {
     "name": "stdout",
     "output_type": "stream",
     "text": [
      "[1, 2, 4, 8, 16, 32, 64, 128, 256, 512, 1024, 2048, 4096, 8192, 16384, 32768, 65536]\n",
      "[1, 4, 9, 16]\n",
      "[16, 65536]\n"
     ]
    }
   ],
   "source": [
    "#2-4\n",
    "#newlist = [expression for item in iterable if condition == True]\n",
    "\n",
    "a = [2**i for i in range (17)]\n",
    "print(a)\n",
    "\n",
    "b = [x*x for x in range (1,5)]\n",
    "print(b)\n",
    "\n",
    "c = [a[x] for x in b if x % 2 == 0]\n",
    "print(c)"
   ]
  },
  {
   "cell_type": "code",
   "execution_count": 5,
   "metadata": {},
   "outputs": [
    {
     "name": "stdout",
     "output_type": "stream",
     "text": [
      "['Alireza Farajtabrizi', 'Hamed Massoudian', 'Amin Hajikhodaveridan', 'Ali Feizbakhsh', 'Sina Karimi']\n"
     ]
    }
   ],
   "source": [
    "#2-5\n",
    "a = [\"Alireza\", \"Farajtabrizi\"]\n",
    "b = [\"Hamed\", \"Massoudian\"]\n",
    "c = [\"Amin\", \"Hajikhodaveridan\"]\n",
    "d = [\"Ali\", \"Feizbakhsh\"]\n",
    "e = [\"Sina\", \"Karimi\"]\n",
    "f = [a, b, c, d, e]\n",
    "\n",
    "myfun = lambda a,b : a + \" \" + b\n",
    "\n",
    "g = [myfun(x,y) for x,y in f]\n",
    "print(g)"
   ]
  },
  {
   "cell_type": "code",
   "execution_count": 6,
   "metadata": {},
   "outputs": [
    {
     "data": {
      "text/plain": [
       "[0, 3]"
      ]
     },
     "execution_count": 6,
     "metadata": {},
     "output_type": "execute_result"
    }
   ],
   "source": [
    "#2-6\n",
    "def find_center(table):\n",
    "    a = len(table)\n",
    "    b = len(table[0])\n",
    "    c = 0\n",
    "    row = [] \n",
    "    col = []\n",
    "    \n",
    "    for i in range(a):\n",
    "        for j in range(b):\n",
    "            if table[i][j]==1:\n",
    "                c = c + 1\n",
    "                row.append(i)\n",
    "                col.append(j)\n",
    "    row.sort()\n",
    "    col.sort()\n",
    "    return [row[int((c-1)/2)], col[int((c-1)/2)]]\n",
    "\n",
    "Table = [[1, 0, 0, 1, 1],\n",
    "         [0, 0, 0, 1, 0],\n",
    "         [0, 0, 1, 0, 0]]\n",
    "\n",
    "find_center(Table)\n"
   ]
  },
  {
   "cell_type": "code",
   "execution_count": 7,
   "metadata": {},
   "outputs": [],
   "source": [
    "#2-7\n",
    "#mkdir envs\n",
    "#cd envs \n",
    "#virtualenv env1 -p python3.9\n",
    "#envs/env1/Scripts/Activate.ps1\n",
    "#deactivate\n",
    "#lsvirtualenv -l\n"
   ]
  },
  {
   "cell_type": "code",
   "execution_count": 8,
   "metadata": {},
   "outputs": [
    {
     "name": "stdout",
     "output_type": "stream",
     "text": [
      "25\n",
      "25\n"
     ]
    }
   ],
   "source": [
    "#2-8\n",
    "import mylib1 as mylib\n",
    "print(mylib.squrefun(5))\n",
    "\n",
    "from mylib1 import squrefun\n",
    "print(squrefun(5))"
   ]
  },
  {
   "cell_type": "code",
   "execution_count": 9,
   "metadata": {},
   "outputs": [
    {
     "name": "stdout",
     "output_type": "stream",
     "text": [
      "['data.csv', 'Lab4-Help.pdf', 'lab4.ipynb', 'Lab4.pdf', 'mylib1.py', '__pycache__']\n"
     ]
    }
   ],
   "source": [
    "#2-9\n",
    "import os\n",
    "path = os.getcwd()\n",
    "\n",
    "\n",
    "contents = []\n",
    "\n",
    "for folder in os.listdir(path):\n",
    "    contents.append(folder)\n",
    "    \n",
    "print(contents)\n",
    "folder_name = \"part9\"\n",
    "a = os.path.join(path, folder_name)\n",
    "os.mkdir(a)\n",
    "file_name = \"part9.txt\"\n",
    "\n",
    "f = open(os.path.join(folder_name,file_name), \"a\")\n",
    "f.write(\"Alireza Farajtabrizi\")\n",
    "f.close()"
   ]
  },
  {
   "cell_type": "code",
   "execution_count": 10,
   "metadata": {},
   "outputs": [
    {
     "name": "stdout",
     "output_type": "stream",
     "text": [
      "      1  65   8450  2003  3  1.1  2008  208500\n",
      "0        80   9600  1976  3    1  2007  181500\n",
      "1        68  11250  2001  3    1  2008  223500\n",
      "2        60   9550  1915  3    1  2006  140000\n",
      "3        84  14260  2000  4    1  2008  250000\n",
      "4        85  14115  1993  1    1  2009  143000\n",
      "...  ..  ..    ...   ... ..  ...   ...     ...\n",
      "1194     62   7500  2004  2    1  2009  185000\n",
      "1195     62   7917  1999  3    1  2007  175000\n",
      "1196     85  13175  1978  3    1  2010  210000\n",
      "1197     66   9042  1941  4    1  2010  266500\n",
      "1198     68   9717  1950  2    1  2010  142125\n",
      "\n",
      "[1199 rows x 8 columns]\n"
     ]
    }
   ],
   "source": [
    "#2-10\n",
    "import csv\n",
    "import pandas as pd\n",
    "df = pd.read_csv('data.csv')\n",
    "#df['1'] = 'whitespac'\n",
    "df['1'] = ' '\n",
    "print(df)\n",
    "df.to_csv('part10.csv', index=False)"
   ]
  },
  {
   "cell_type": "code",
   "execution_count": 56,
   "metadata": {},
   "outputs": [
    {
     "name": "stdout",
     "output_type": "stream",
     "text": [
      "The following lines contain the string { GNU }:\n",
      "                    GNU GENERAL PUBLIC LICENSE\n",
      "\n",
      "                    GNU GENERAL PUBLIC LICENSE\n",
      "\n",
      "    it under the terms of the GNU General Public License as published by\n",
      "\n",
      "    GNU General Public License for more details.\n",
      "\n",
      "    You should have received a copy of the GNU General Public License\n",
      "\n"
     ]
    }
   ],
   "source": [
    "#2-11\n",
    "import re\n",
    "inputFile = \"GPL-1\"\n",
    "\n",
    "# Enter the string\n",
    "givenString = \"GNU\"\n",
    "print('The following lines contain the string {', givenString, '}:')\n",
    "\n",
    "# Opening the given file in read-only mode\n",
    "with open(inputFile, 'r') as filedata:\n",
    "\n",
    "   # Traverse in each line of the file\n",
    "   \n",
    "   for line in filedata:\n",
    "\n",
    "      # Checking whether the given string is found in the line data\n",
    "      \n",
    "      if givenString in line:\n",
    "\n",
    "         # Print the line, if the given string is found in the current line\n",
    "         print(line)\n",
    "\n",
    "# Closing the input file\n",
    "filedata.close()"
   ]
  },
  {
   "cell_type": "code",
   "execution_count": 54,
   "metadata": {},
   "outputs": [
    {
     "data": {
      "text/plain": [
       "True"
      ]
     },
     "execution_count": 54,
     "metadata": {},
     "output_type": "execute_result"
    }
   ],
   "source": [
    "re.search(\"^That*\", line)!=None\n"
   ]
  }
 ],
 "metadata": {
  "kernelspec": {
   "display_name": "Python 3.10.0 64-bit",
   "language": "python",
   "name": "python3"
  },
  "language_info": {
   "codemirror_mode": {
    "name": "ipython",
    "version": 3
   },
   "file_extension": ".py",
   "mimetype": "text/x-python",
   "name": "python",
   "nbconvert_exporter": "python",
   "pygments_lexer": "ipython3",
   "version": "3.10.0"
  },
  "orig_nbformat": 4,
  "vscode": {
   "interpreter": {
    "hash": "c7138a203ef7aeece7a1358e4d4a9de5add35a9a7292be9026489a92585e22ee"
   }
  }
 },
 "nbformat": 4,
 "nbformat_minor": 2
}
